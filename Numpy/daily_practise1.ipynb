{
 "cells": [
  {
   "cell_type": "markdown",
   "metadata": {},
   "source": [
    "# Numpy Exercise 1\n",
    "\n",
    "### All of the questions in this exercise are attributed to rougier/numpy-100"
   ]
  },
  {
   "cell_type": "code",
   "execution_count": null,
   "metadata": {},
   "outputs": [],
   "source": []
  },
  {
   "cell_type": "markdown",
   "metadata": {},
   "source": [
    "#### 1. Import the numpy package under the name `np` (★☆☆)"
   ]
  },
  {
   "cell_type": "code",
   "execution_count": 2,
   "metadata": {},
   "outputs": [],
   "source": [
    "import numpy as np"
   ]
  },
  {
   "cell_type": "markdown",
   "metadata": {},
   "source": [
    "#### 2. Print the numpy version and the configuration (★☆☆)"
   ]
  },
  {
   "cell_type": "code",
   "execution_count": 5,
   "metadata": {},
   "outputs": [
    {
     "data": {
      "text/plain": [
       "'2.3.3'"
      ]
     },
     "execution_count": 5,
     "metadata": {},
     "output_type": "execute_result"
    }
   ],
   "source": [
    "(np.__version__)"
   ]
  },
  {
   "cell_type": "markdown",
   "metadata": {},
   "source": [
    "3.Create a null vector of size 10 (★☆☆)"
   ]
  },
  {
   "cell_type": "code",
   "execution_count": 8,
   "metadata": {},
   "outputs": [
    {
     "name": "stdout",
     "output_type": "stream",
     "text": [
      "[0. 0. 0. 0. 0. 0. 0. 0. 0. 0.]\n",
      "<class 'numpy.ndarray'>\n"
     ]
    }
   ],
   "source": [
    "null_vector = np.zeros(10)\n",
    "print(null_vector)\n",
    "print(type(null_vector))"
   ]
  },
  {
   "cell_type": "markdown",
   "metadata": {},
   "source": [
    "#### 4. How to find the memory size of any array (★☆☆)"
   ]
  },
  {
   "cell_type": "code",
   "execution_count": 15,
   "metadata": {},
   "outputs": [
    {
     "name": "stdout",
     "output_type": "stream",
     "text": [
      "80\n",
      "8\n"
     ]
    }
   ],
   "source": [
    "print(null_vector.nbytes)\n",
    "print(null_vector.itemsize)"
   ]
  },
  {
   "cell_type": "markdown",
   "metadata": {},
   "source": [
    "#### 5. How to get the documentation of the numpy add function from the command line? (★☆☆)"
   ]
  },
  {
   "cell_type": "markdown",
   "metadata": {},
   "source": [
    "pydoc3 numpy.add "
   ]
  },
  {
   "cell_type": "markdown",
   "metadata": {},
   "source": [
    "#### 6. Create a null vector of size 10 but the fifth value which is 1 (★☆☆)"
   ]
  },
  {
   "cell_type": "code",
   "execution_count": 19,
   "metadata": {},
   "outputs": [
    {
     "name": "stdout",
     "output_type": "stream",
     "text": [
      "[0. 0. 0. 0. 1. 0. 0. 0. 0. 0.]\n"
     ]
    }
   ],
   "source": [
    "a = np.zeros(10)\n",
    "a[4] = 1\n",
    "print(a)"
   ]
  },
  {
   "cell_type": "markdown",
   "metadata": {},
   "source": [
    "#### 7. Create a vector with values ranging from 10 to 49 (★☆☆)"
   ]
  },
  {
   "cell_type": "code",
   "execution_count": 21,
   "metadata": {},
   "outputs": [
    {
     "name": "stdout",
     "output_type": "stream",
     "text": [
      "[10.         10.79591837 11.59183673 12.3877551  13.18367347 13.97959184\n",
      " 14.7755102  15.57142857 16.36734694 17.16326531 17.95918367 18.75510204\n",
      " 19.55102041 20.34693878 21.14285714 21.93877551 22.73469388 23.53061224\n",
      " 24.32653061 25.12244898 25.91836735 26.71428571 27.51020408 28.30612245\n",
      " 29.10204082 29.89795918 30.69387755 31.48979592 32.28571429 33.08163265\n",
      " 33.87755102 34.67346939 35.46938776 36.26530612 37.06122449 37.85714286\n",
      " 38.65306122 39.44897959 40.24489796 41.04081633 41.83673469 42.63265306\n",
      " 43.42857143 44.2244898  45.02040816 45.81632653 46.6122449  47.40816327\n",
      " 48.20408163 49.        ]\n"
     ]
    }
   ],
   "source": [
    "b = np.linspace(10,49)\n",
    "print(b)"
   ]
  },
  {
   "cell_type": "markdown",
   "metadata": {},
   "source": [
    "#### 8. Reverse a vector (first element becomes last) (★☆☆)"
   ]
  },
  {
   "cell_type": "code",
   "execution_count": 23,
   "metadata": {},
   "outputs": [
    {
     "name": "stdout",
     "output_type": "stream",
     "text": [
      "[49.         48.20408163 47.40816327 46.6122449  45.81632653 45.02040816\n",
      " 44.2244898  43.42857143 42.63265306 41.83673469 41.04081633 40.24489796\n",
      " 39.44897959 38.65306122 37.85714286 37.06122449 36.26530612 35.46938776\n",
      " 34.67346939 33.87755102 33.08163265 32.28571429 31.48979592 30.69387755\n",
      " 29.89795918 29.10204082 28.30612245 27.51020408 26.71428571 25.91836735\n",
      " 25.12244898 24.32653061 23.53061224 22.73469388 21.93877551 21.14285714\n",
      " 20.34693878 19.55102041 18.75510204 17.95918367 17.16326531 16.36734694\n",
      " 15.57142857 14.7755102  13.97959184 13.18367347 12.3877551  11.59183673\n",
      " 10.79591837 10.        ]\n"
     ]
    }
   ],
   "source": [
    "c = b[::-1]\n",
    "print(c)"
   ]
  },
  {
   "cell_type": "markdown",
   "metadata": {},
   "source": [
    "#### 9. Create a 3x3 matrix with values ranging from 0 to 8 (★☆☆)"
   ]
  },
  {
   "cell_type": "code",
   "execution_count": 26,
   "metadata": {},
   "outputs": [
    {
     "name": "stdout",
     "output_type": "stream",
     "text": [
      "[[0 1 2]\n",
      " [3 4 5]\n",
      " [6 7 8]]\n"
     ]
    }
   ],
   "source": [
    "d = np.reshape(np.arange(0,9),(3,3))\n",
    "print(d)"
   ]
  },
  {
   "cell_type": "markdown",
   "metadata": {},
   "source": [
    "#### 10. Find indices of non-zero elements from [1,2,0,0,4,0] (★☆☆)"
   ]
  },
  {
   "cell_type": "code",
   "execution_count": 28,
   "metadata": {},
   "outputs": [
    {
     "name": "stdout",
     "output_type": "stream",
     "text": [
      "(array([0, 1, 4]),)\n",
      "[0 1 4]\n"
     ]
    }
   ],
   "source": [
    "e = np.array([1,2,0,0,4,0])\n",
    "g = np.nonzero(e)\n",
    "print(g)\n",
    "print(g[0])\n"
   ]
  },
  {
   "cell_type": "markdown",
   "metadata": {},
   "source": [
    "#### 11. Create a 3x3 identity matrix (★☆☆)"
   ]
  },
  {
   "cell_type": "code",
   "execution_count": 29,
   "metadata": {},
   "outputs": [
    {
     "name": "stdout",
     "output_type": "stream",
     "text": [
      "[[1. 0. 0.]\n",
      " [0. 1. 0.]\n",
      " [0. 0. 1.]]\n"
     ]
    }
   ],
   "source": [
    "h = np.eye(3)\n",
    "print(h)"
   ]
  },
  {
   "cell_type": "markdown",
   "metadata": {},
   "source": [
    "#### 12. Create a 3x3x3 array with random values (★☆☆)"
   ]
  },
  {
   "cell_type": "code",
   "execution_count": 40,
   "metadata": {},
   "outputs": [
    {
     "name": "stdout",
     "output_type": "stream",
     "text": [
      "[[ 9  6  2]\n",
      " [13  7  2]\n",
      " [ 0  1 12]]\n",
      "<class 'numpy.ndarray'>\n"
     ]
    }
   ],
   "source": [
    "j = np.random.randint(low=0, high=14, size=(3,3), dtype=int)\n",
    "print(j)\n",
    "print(type(j))"
   ]
  },
  {
   "cell_type": "markdown",
   "metadata": {},
   "source": [
    "#### 13. Create a 10x10 array with random values and find the minimum and maximum values (★☆☆)"
   ]
  },
  {
   "cell_type": "code",
   "execution_count": 41,
   "metadata": {},
   "outputs": [
    {
     "name": "stdout",
     "output_type": "stream",
     "text": [
      "[[ 99  24  53  82  39  73  39  97  55  37]\n",
      " [ 54 104  64  53  73  97  29  88  73  80]\n",
      " [ 69  73  45  49  74  71  50  43  29  14]\n",
      " [103  85  12 102  58  55  36  33  13 108]\n",
      " [105  30  83 102  51  76  27  73  31  42]\n",
      " [ 72 101  40  19  60  52  29  82  99 107]\n",
      " [ 61  56  29  27  75  66  87 103  59  74]\n",
      " [ 31  13  20  33  37  35  52  19  24 100]\n",
      " [ 93  86 107  45  55  95  19  45  90  40]\n",
      " [ 23  28  51  82  48  32 109  32  89  14]]\n"
     ]
    }
   ],
   "source": [
    "k = np.random.randint(low=12, high=111, size=(10,10), dtype=int)\n",
    "print(k)"
   ]
  },
  {
   "cell_type": "code",
   "execution_count": 45,
   "metadata": {},
   "outputs": [
    {
     "name": "stdout",
     "output_type": "stream",
     "text": [
      "12\n",
      "109\n"
     ]
    }
   ],
   "source": [
    "print(k.min())\n",
    "print(k.max())"
   ]
  },
  {
   "cell_type": "markdown",
   "metadata": {},
   "source": [
    "#### 14. Create a random vector of size 30 and find the mean value (★☆☆)"
   ]
  },
  {
   "cell_type": "code",
   "execution_count": 49,
   "metadata": {},
   "outputs": [
    {
     "name": "stdout",
     "output_type": "stream",
     "text": [
      "[0.39792785 0.09287317 0.39043743 0.15925708 0.4557071  0.91349057\n",
      " 0.34464305 0.95071625 0.93988661 0.31540427 0.08621593 0.95563642\n",
      " 0.0118296  0.06285201 0.81109623 0.85623101 0.74581487 0.64431839\n",
      " 0.79880743 0.73211912 0.00276261 0.54771482 0.69418543 0.60070303\n",
      " 0.11594114 0.15044541 0.15034235 0.4627916  0.99024654 0.10183085]\n"
     ]
    }
   ],
   "source": [
    "l = np.random.random(30)\n",
    "print(l)"
   ]
  },
  {
   "cell_type": "code",
   "execution_count": 50,
   "metadata": {},
   "outputs": [
    {
     "name": "stdout",
     "output_type": "stream",
     "text": [
      "0.482740939596995\n"
     ]
    }
   ],
   "source": [
    "print(l.mean())"
   ]
  },
  {
   "cell_type": "markdown",
   "metadata": {},
   "source": [
    "#### 15. Create a 2d array with 1 on the border and 0 inside (★☆☆)"
   ]
  },
  {
   "cell_type": "code",
   "execution_count": 52,
   "metadata": {},
   "outputs": [
    {
     "name": "stdout",
     "output_type": "stream",
     "text": [
      "[[1 1 1 1 1 1 1]\n",
      " [1 0 0 0 0 0 1]\n",
      " [1 0 0 0 0 0 1]\n",
      " [1 0 0 0 0 0 1]\n",
      " [1 0 0 0 0 0 1]\n",
      " [1 0 0 0 0 0 1]\n",
      " [1 1 1 1 1 1 1]]\n"
     ]
    }
   ],
   "source": [
    "m = np.ones((7,7),dtype=int)\n",
    "m[1:-1,1:-1]=0\n",
    "print(m)"
   ]
  }
 ],
 "metadata": {
  "kernelspec": {
   "display_name": "atieno",
   "language": "python",
   "name": "python3"
  },
  "language_info": {
   "codemirror_mode": {
    "name": "ipython",
    "version": 3
   },
   "file_extension": ".py",
   "mimetype": "text/x-python",
   "name": "python",
   "nbconvert_exporter": "python",
   "pygments_lexer": "ipython3",
   "version": "3.12.8"
  }
 },
 "nbformat": 4,
 "nbformat_minor": 4
}
