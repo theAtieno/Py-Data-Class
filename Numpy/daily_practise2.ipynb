{
 "cells": [
  {
   "cell_type": "markdown",
   "metadata": {},
   "source": [
    "# Numpy Exercise 2\n",
    "\n",
    "### All of the questions in this exercise are attributed to rougier/numpy-100"
   ]
  },
  {
   "cell_type": "code",
   "execution_count": null,
   "metadata": {},
   "outputs": [],
   "source": [
    "import shutil\n",
    "import os\n",
    "\n",
    "source = \"/Users/atienojacinta/Downloads/Numpy2.ipynb\"\n",
    "\n",
    "destination_folder = \"/Users/atienojacinta/PYDATA /Numpy\"\n",
    "\n",
    "os.makedirs(destination_folder, exist_ok=True)\n",
    "\n",
    "destination = os.path.join(destination_folder, \"daily_practise2.ipynb\")\n",
    "\n",
    "shutil.move(source, destination)\n",
    "\n",
    "print(f\"Moved {source} ➝ {destination}\")"
   ]
  },
  {
   "cell_type": "code",
   "execution_count": 238,
   "metadata": {},
   "outputs": [],
   "source": [
    "import numpy as np"
   ]
  },
  {
   "cell_type": "markdown",
   "metadata": {},
   "source": [
    "#### 16. How to add a border (filled with 0's) around an existing array? (★☆☆)"
   ]
  },
  {
   "cell_type": "markdown",
   "metadata": {},
   "source": [
    "Padding an array"
   ]
  },
  {
   "cell_type": "code",
   "execution_count": 5,
   "metadata": {},
   "outputs": [
    {
     "data": {
      "text/plain": [
       "array([0, 0, 1, 2, 3, 0, 0, 0])"
      ]
     },
     "execution_count": 5,
     "metadata": {},
     "output_type": "execute_result"
    }
   ],
   "source": [
    "#padding with zero\n",
    "a = np.array([1,2,3])\n",
    "np.pad(a,(2,3))"
   ]
  },
  {
   "cell_type": "code",
   "execution_count": 11,
   "metadata": {},
   "outputs": [
    {
     "data": {
      "text/plain": [
       "array([[8, 8, 8, 8, 9, 9],\n",
       "       [8, 1, 2, 3, 9, 9],\n",
       "       [8, 4, 5, 6, 9, 9],\n",
       "       [8, 9, 9, 9, 9, 9],\n",
       "       [8, 9, 9, 9, 9, 9]])"
      ]
     },
     "execution_count": 11,
     "metadata": {},
     "output_type": "execute_result"
    }
   ],
   "source": [
    "#padding with constant mode: adds fixed constant values\n",
    "b = np.array([[1,2,3],[4,5,6]])\n",
    "np.pad(b,(1,2),mode='constant',constant_values=(8,9))"
   ]
  },
  {
   "cell_type": "code",
   "execution_count": 14,
   "metadata": {},
   "outputs": [
    {
     "data": {
      "text/plain": [
       "array([[1, 1, 2, 3, 3, 3],\n",
       "       [1, 1, 2, 3, 3, 3],\n",
       "       [4, 4, 5, 6, 6, 6],\n",
       "       [4, 4, 5, 6, 6, 6],\n",
       "       [4, 4, 5, 6, 6, 6]])"
      ]
     },
     "execution_count": 14,
     "metadata": {},
     "output_type": "execute_result"
    }
   ],
   "source": [
    "#padding with edge: repeats the edge values of the array.\n",
    "c = np.array([[1,2,3],[4,5,6]])\n",
    "np.pad(c,(1,2),mode='edge')"
   ]
  },
  {
   "cell_type": "code",
   "execution_count": 16,
   "metadata": {},
   "outputs": [
    {
     "data": {
      "text/plain": [
       "array([[5, 4, 5, 6, 5, 4],\n",
       "       [2, 1, 2, 3, 2, 1],\n",
       "       [5, 4, 5, 6, 5, 4],\n",
       "       [2, 1, 2, 3, 2, 1],\n",
       "       [5, 4, 5, 6, 5, 4]])"
      ]
     },
     "execution_count": 16,
     "metadata": {},
     "output_type": "execute_result"
    }
   ],
   "source": [
    "#padding with reflect: mirrors the array without repeating the edge element.\n",
    "d = np.array([[1,2,3],[4,5,6]])\n",
    "np.pad(d,(1,2),mode='reflect')"
   ]
  },
  {
   "cell_type": "markdown",
   "metadata": {},
   "source": [
    "#### 17. What is the result of the following expression? (★☆☆)\n",
    "```python\n",
    "0 * np.nan\n",
    "np.nan == np.nan\n",
    "np.inf > np.nan\n",
    "np.nan - np.nan\n",
    "np.nan in set([np.nan])\n",
    "0.3 == 3 * 0.1\n",
    "```"
   ]
  },
  {
   "cell_type": "code",
   "execution_count": 17,
   "metadata": {},
   "outputs": [
    {
     "data": {
      "text/plain": [
       "False"
      ]
     },
     "execution_count": 17,
     "metadata": {},
     "output_type": "execute_result"
    }
   ],
   "source": [
    "\n",
    "0 * np.nan\n",
    "np.nan == np.nan\n",
    "np.inf > np.nan\n",
    "np.nan - np.nan\n",
    "np.nan in set([np.nan])\n",
    "0.3 == 3 * 0.1"
   ]
  },
  {
   "cell_type": "markdown",
   "metadata": {},
   "source": [
    "#### 18. Create a 5x5 matrix with values 1,2,3,4 just below the diagonal (★☆☆)"
   ]
  },
  {
   "cell_type": "code",
   "execution_count": 27,
   "metadata": {},
   "outputs": [
    {
     "name": "stdout",
     "output_type": "stream",
     "text": [
      "[[0 0 0 0 0]\n",
      " [1 0 0 0 0]\n",
      " [0 2 0 0 0]\n",
      " [0 0 3 0 0]\n",
      " [0 0 0 4 0]]\n"
     ]
    }
   ],
   "source": [
    "e = (1,2,3,4)\n",
    "f = np.diag(e,k=-1)\n",
    "print(f)"
   ]
  },
  {
   "cell_type": "code",
   "execution_count": 39,
   "metadata": {},
   "outputs": [
    {
     "name": "stdout",
     "output_type": "stream",
     "text": [
      "[[0 0 0 0 0]\n",
      " [1 0 0 0 0]\n",
      " [0 2 0 0 0]\n",
      " [0 0 3 0 0]\n",
      " [0 0 0 4 0]]\n"
     ]
    }
   ],
   "source": [
    "g = (1,2,3,4)\n",
    "h = np.zeros((5,5),dtype=int)\n",
    "np.fill_diagonal(h[1:],g)\n",
    "print(h)"
   ]
  },
  {
   "cell_type": "markdown",
   "metadata": {},
   "source": [
    "#### 19. Create a 8x8 matrix and fill it with a checkerboard pattern (★☆☆)"
   ]
  },
  {
   "cell_type": "markdown",
   "metadata": {},
   "source": [
    "Using Indices"
   ]
  },
  {
   "cell_type": "code",
   "execution_count": 42,
   "metadata": {},
   "outputs": [
    {
     "name": "stdout",
     "output_type": "stream",
     "text": [
      "[[[0 0 0 0 0 0 0 0]\n",
      "  [1 1 1 1 1 1 1 1]\n",
      "  [2 2 2 2 2 2 2 2]\n",
      "  [3 3 3 3 3 3 3 3]\n",
      "  [4 4 4 4 4 4 4 4]\n",
      "  [5 5 5 5 5 5 5 5]\n",
      "  [6 6 6 6 6 6 6 6]\n",
      "  [7 7 7 7 7 7 7 7]]\n",
      "\n",
      " [[0 1 2 3 4 5 6 7]\n",
      "  [0 1 2 3 4 5 6 7]\n",
      "  [0 1 2 3 4 5 6 7]\n",
      "  [0 1 2 3 4 5 6 7]\n",
      "  [0 1 2 3 4 5 6 7]\n",
      "  [0 1 2 3 4 5 6 7]\n",
      "  [0 1 2 3 4 5 6 7]\n",
      "  [0 1 2 3 4 5 6 7]]]\n"
     ]
    }
   ],
   "source": [
    "i = np.indices((8,8))\n",
    "print(i)"
   ]
  },
  {
   "cell_type": "code",
   "execution_count": 43,
   "metadata": {},
   "outputs": [
    {
     "name": "stdout",
     "output_type": "stream",
     "text": [
      "[[ 0  1  2  3  4  5  6  7]\n",
      " [ 1  2  3  4  5  6  7  8]\n",
      " [ 2  3  4  5  6  7  8  9]\n",
      " [ 3  4  5  6  7  8  9 10]\n",
      " [ 4  5  6  7  8  9 10 11]\n",
      " [ 5  6  7  8  9 10 11 12]\n",
      " [ 6  7  8  9 10 11 12 13]\n",
      " [ 7  8  9 10 11 12 13 14]]\n"
     ]
    }
   ],
   "source": [
    "j = i.sum(axis=0)\n",
    "print(j)"
   ]
  },
  {
   "cell_type": "code",
   "execution_count": 45,
   "metadata": {},
   "outputs": [
    {
     "name": "stdout",
     "output_type": "stream",
     "text": [
      "[[0 1 0 1 0 1 0 1]\n",
      " [1 0 1 0 1 0 1 0]\n",
      " [0 1 0 1 0 1 0 1]\n",
      " [1 0 1 0 1 0 1 0]\n",
      " [0 1 0 1 0 1 0 1]\n",
      " [1 0 1 0 1 0 1 0]\n",
      " [0 1 0 1 0 1 0 1]\n",
      " [1 0 1 0 1 0 1 0]]\n"
     ]
    }
   ],
   "source": [
    "k = j%2\n",
    "print(k)"
   ]
  },
  {
   "cell_type": "markdown",
   "metadata": {},
   "source": [
    "Using Slicing"
   ]
  },
  {
   "cell_type": "code",
   "execution_count": 54,
   "metadata": {},
   "outputs": [
    {
     "name": "stdout",
     "output_type": "stream",
     "text": [
      "[[0 1 0 1 0 1 0 1]\n",
      " [1 0 1 0 1 0 1 0]\n",
      " [0 1 0 1 0 1 0 1]\n",
      " [1 0 1 0 1 0 1 0]\n",
      " [0 1 0 1 0 1 0 1]\n",
      " [1 0 1 0 1 0 1 0]\n",
      " [0 1 0 1 0 1 0 1]\n",
      " [1 0 1 0 1 0 1 0]]\n"
     ]
    }
   ],
   "source": [
    "l = np.zeros((8,8),dtype=int)\n",
    "l[1::2,::2]=1\n",
    "l[::2,1::2]=1\n",
    "print(l)"
   ]
  },
  {
   "cell_type": "markdown",
   "metadata": {},
   "source": [
    "#### 20. Consider a (6,7,8) shape array, what is the index (x,y,z) of the 100th element?"
   ]
  },
  {
   "cell_type": "code",
   "execution_count": 57,
   "metadata": {},
   "outputs": [
    {
     "name": "stdout",
     "output_type": "stream",
     "text": [
      "(np.int64(1), np.int64(5), np.int64(3))\n"
     ]
    }
   ],
   "source": [
    "m = np.arange(6*7*8).reshape(6,7,8)\n",
    "n = 99\n",
    "o = np.unravel_index(n,m.shape)\n",
    "print(o)"
   ]
  },
  {
   "cell_type": "markdown",
   "metadata": {},
   "source": [
    "#### 21. Create a checkerboard 8x8 matrix using the tile function (★☆☆)"
   ]
  },
  {
   "cell_type": "code",
   "execution_count": 60,
   "metadata": {},
   "outputs": [
    {
     "name": "stdout",
     "output_type": "stream",
     "text": [
      "[[0 1 0 1 0 1 0 1]\n",
      " [0 1 0 1 0 1 0 1]\n",
      " [0 1 0 1 0 1 0 1]\n",
      " [0 1 0 1 0 1 0 1]\n",
      " [0 1 0 1 0 1 0 1]\n",
      " [0 1 0 1 0 1 0 1]\n",
      " [0 1 0 1 0 1 0 1]\n",
      " [0 1 0 1 0 1 0 1]]\n"
     ]
    }
   ],
   "source": [
    "p = np.array([[0,1],[0,1]])\n",
    "q = np.tile(p,(4,4))\n",
    "print(q)"
   ]
  },
  {
   "cell_type": "markdown",
   "metadata": {},
   "source": [
    "#### 22. Normalize a 5x5 random matrix (★☆☆)"
   ]
  },
  {
   "cell_type": "code",
   "execution_count": 70,
   "metadata": {},
   "outputs": [
    {
     "name": "stdout",
     "output_type": "stream",
     "text": [
      "[[3 5 4 7 5]\n",
      " [3 4 7 4 5]\n",
      " [6 7 6 3 4]\n",
      " [7 7 5 3 4]\n",
      " [7 3 3 5 5]]\n"
     ]
    }
   ],
   "source": [
    "#normalize is to scale down to values between 0 and 1\n",
    "r = np.random.randint(low=3,high=8,size=(5,5),dtype=int)\n",
    "print(r)"
   ]
  },
  {
   "cell_type": "code",
   "execution_count": 71,
   "metadata": {},
   "outputs": [
    {
     "name": "stdout",
     "output_type": "stream",
     "text": [
      "[[0.   0.5  0.25 1.   0.5 ]\n",
      " [0.   0.25 1.   0.25 0.5 ]\n",
      " [0.75 1.   0.75 0.   0.25]\n",
      " [1.   1.   0.5  0.   0.25]\n",
      " [1.   0.   0.   0.5  0.5 ]]\n"
     ]
    }
   ],
   "source": [
    "r_min = r.min()\n",
    "r_max = r.max()\n",
    "r_normal = (r-r_min)/(r_max-r_min)\n",
    "print(r_normal)"
   ]
  },
  {
   "cell_type": "markdown",
   "metadata": {},
   "source": [
    "#### 23. Create a custom dtype that describes a color as four unsigned bytes (RGBA) (★☆☆)"
   ]
  },
  {
   "cell_type": "code",
   "execution_count": 79,
   "metadata": {},
   "outputs": [
    {
     "name": "stdout",
     "output_type": "stream",
     "text": [
      "[('R', 'u1'), ('B', 'u1'), ('G', 'u1'), ('A', 'u1')]\n"
     ]
    }
   ],
   "source": [
    "colour = np.dtype([('R',np.uint8),('B',np.uint8),('G',np.uint8),('A',np.uint8)])\n",
    "print(colour)"
   ]
  },
  {
   "cell_type": "markdown",
   "metadata": {},
   "source": [
    "#### 24. Multiply a 5x3 matrix by a 3x2 matrix (real matrix product) (★☆☆)"
   ]
  },
  {
   "cell_type": "code",
   "execution_count": 104,
   "metadata": {},
   "outputs": [
    {
     "name": "stdout",
     "output_type": "stream",
     "text": [
      "s1: [[16 17 18]\n",
      " [19 20 21]\n",
      " [22 23 24]\n",
      " [25 26 27]\n",
      " [28 29 30]]\n",
      "S2: [[2 3]\n",
      " [4 5]\n",
      " [6 7]]\n",
      "[[208 259]\n",
      " [244 304]\n",
      " [280 349]\n",
      " [316 394]\n",
      " [352 439]]\n"
     ]
    }
   ],
   "source": [
    "s1 = np.arange(16,31).reshape(5,3)\n",
    "print(f\"s1:\", s1)\n",
    "s2 = np.arange(2,8).reshape(3,2)\n",
    "print(f\"s2:\", s2)\n",
    "s3 = np.dot(s1,s2)\n",
    "print(s3)"
   ]
  },
  {
   "cell_type": "markdown",
   "metadata": {},
   "source": [
    "#### 25. Given a 1D array, negate all elements which are between 3 and 8, in place. (★☆☆)"
   ]
  },
  {
   "cell_type": "code",
   "execution_count": 116,
   "metadata": {},
   "outputs": [
    {
     "name": "stdout",
     "output_type": "stream",
     "text": [
      "[1 2 3 4 5 6 7 8 9]\n",
      "[ 1  2  3 -4 -5 -6 -7  8  9]\n"
     ]
    }
   ],
   "source": [
    "t = np.arange(1,10)\n",
    "print(t)\n",
    "t[(t>3)&(t<8)] *=-1\n",
    "print(t)"
   ]
  },
  {
   "cell_type": "markdown",
   "metadata": {},
   "source": [
    "#### 26. What is the output of the following script? (★☆☆)\n",
    "```python\n",
    "# Author: Jake VanderPlas\n",
    "\n",
    "print(sum(range(5),-1))\n",
    "from numpy import *\n",
    "print(sum(range(5),-1))\n",
    "```"
   ]
  },
  {
   "cell_type": "code",
   "execution_count": 126,
   "metadata": {},
   "outputs": [
    {
     "name": "stdout",
     "output_type": "stream",
     "text": [
      "10\n"
     ]
    }
   ],
   "source": [
    "print(sum(range(5),-1))\n",
    "\n",
    "#this is still giving 10 because numoy was already installed but when running from a file without numpy,\n",
    "# it uses the built i python sum() function and adds the numbers iteratively starting with the one defined in the function"
   ]
  },
  {
   "cell_type": "markdown",
   "metadata": {},
   "source": [
    "#### 27. Consider an integer vector Z, which of these expressions are legal? (★☆☆)\n",
    "```python\n",
    "Z**Z\n",
    "2 << Z >> 2\n",
    "Z <- Z\n",
    "1j*Z\n",
    "Z/1/1\n",
    "Z<Z>Z\n",
    "```"
   ]
  },
  {
   "cell_type": "code",
   "execution_count": 127,
   "metadata": {},
   "outputs": [
    {
     "name": "stdout",
     "output_type": "stream",
     "text": [
      "[1 2 3 4]\n"
     ]
    }
   ],
   "source": [
    "z = np.array([1,2,3,4],dtype=int)\n",
    "print(z)"
   ]
  },
  {
   "cell_type": "code",
   "execution_count": 128,
   "metadata": {},
   "outputs": [
    {
     "name": "stdout",
     "output_type": "stream",
     "text": [
      "[  1   4  27 256]\n"
     ]
    }
   ],
   "source": [
    "z1 = z**z\n",
    "print(z1)\n",
    "\n",
    "#allowed"
   ]
  },
  {
   "cell_type": "code",
   "execution_count": 129,
   "metadata": {},
   "outputs": [
    {
     "name": "stdout",
     "output_type": "stream",
     "text": [
      "[1 2 4 8]\n"
     ]
    }
   ],
   "source": [
    "z2 = 2<<z>>2\n",
    "print(z2)\n",
    "#allowed"
   ]
  },
  {
   "cell_type": "code",
   "execution_count": 130,
   "metadata": {},
   "outputs": [
    {
     "name": "stdout",
     "output_type": "stream",
     "text": [
      "[False False False False]\n"
     ]
    }
   ],
   "source": [
    "z3 = z<-z\n",
    "print(z3)\n",
    "\n",
    "#allowed \n",
    "\n",
    "#< is used to represent less than np.less\n",
    "# for <-, python intepretes the - as -z thus z<(-z)\n",
    "#it therefore compares the elements of z with their negatives, and returns True or False \n",
    "# depending whether the lement is less than it's negative"
   ]
  },
  {
   "cell_type": "code",
   "execution_count": 132,
   "metadata": {},
   "outputs": [
    {
     "name": "stdout",
     "output_type": "stream",
     "text": [
      "[0.+1.j 0.+2.j 0.+3.j 0.+4.j]\n"
     ]
    }
   ],
   "source": [
    "z4 = 1j*z\n",
    "print(z4)\n",
    "\n",
    "#allowed\n",
    "#1j is a type of imaginary nuber that automatically turns an array into a complex array with a real part and an imaginary part\n"
   ]
  },
  {
   "cell_type": "code",
   "execution_count": 135,
   "metadata": {},
   "outputs": [
    {
     "name": "stdout",
     "output_type": "stream",
     "text": [
      "[1. 2. 3. 4.]\n"
     ]
    }
   ],
   "source": [
    "z5 = z/1/1\n",
    "print(z5)\n",
    "\n",
    "#allowed\n",
    "#z/1/1 divides z by 1 and agin by 1 gicing the result of a float instead of an integer as the operator / automatically converts tghe int to a float"
   ]
  },
  {
   "cell_type": "code",
   "execution_count": 136,
   "metadata": {},
   "outputs": [
    {
     "ename": "ValueError",
     "evalue": "The truth value of an array with more than one element is ambiguous. Use a.any() or a.all()",
     "output_type": "error",
     "traceback": [
      "\u001b[31m---------------------------------------------------------------------------\u001b[39m",
      "\u001b[31mValueError\u001b[39m                                Traceback (most recent call last)",
      "\u001b[36mCell\u001b[39m\u001b[36m \u001b[39m\u001b[32mIn[136]\u001b[39m\u001b[32m, line 1\u001b[39m\n\u001b[32m----> \u001b[39m\u001b[32m1\u001b[39m z6 = z<z>z\n\u001b[32m      2\u001b[39m \u001b[38;5;28mprint\u001b[39m(z6)\n",
      "\u001b[31mValueError\u001b[39m: The truth value of an array with more than one element is ambiguous. Use a.any() or a.all()"
     ]
    }
   ],
   "source": [
    "z6 = z<z>z\n",
    "print(z6)\n",
    "\n",
    "#not allowed as numpy does not allow wide comparison but has to be split into element-wise operations combined with logical operators as below"
   ]
  },
  {
   "cell_type": "code",
   "execution_count": 137,
   "metadata": {},
   "outputs": [
    {
     "name": "stdout",
     "output_type": "stream",
     "text": [
      "[False False False False]\n"
     ]
    }
   ],
   "source": [
    "z7 = (z<z)&(z>z)\n",
    "print(z7)"
   ]
  },
  {
   "cell_type": "markdown",
   "metadata": {},
   "source": [
    "#### 28. What are the result of the following expressions?\n",
    "```python\n",
    "np.array(0) / np.array(0)\n",
    "np.array(0) // np.array(0)\n",
    "np.array([np.nan]).astype(int).astype(float)\n",
    "```"
   ]
  },
  {
   "cell_type": "code",
   "execution_count": 138,
   "metadata": {},
   "outputs": [
    {
     "name": "stderr",
     "output_type": "stream",
     "text": [
      "/var/folders/b7/64294z_j16d0t1nszkgct6_c0000gn/T/ipykernel_43903/3272234849.py:1: RuntimeWarning: invalid value encountered in divide\n",
      "  np.array(0) / np.array(0)\n"
     ]
    },
    {
     "data": {
      "text/plain": [
       "np.float64(nan)"
      ]
     },
     "execution_count": 138,
     "metadata": {},
     "output_type": "execute_result"
    }
   ],
   "source": [
    "np.array(0) / np.array(0)\n"
   ]
  },
  {
   "cell_type": "code",
   "execution_count": 139,
   "metadata": {},
   "outputs": [
    {
     "name": "stderr",
     "output_type": "stream",
     "text": [
      "/var/folders/b7/64294z_j16d0t1nszkgct6_c0000gn/T/ipykernel_43903/474058805.py:1: RuntimeWarning: divide by zero encountered in floor_divide\n",
      "  np.array(0) // np.array(0)\n"
     ]
    },
    {
     "data": {
      "text/plain": [
       "np.int64(0)"
      ]
     },
     "execution_count": 139,
     "metadata": {},
     "output_type": "execute_result"
    }
   ],
   "source": [
    "np.array(0) // np.array(0)\n"
   ]
  },
  {
   "cell_type": "code",
   "execution_count": 140,
   "metadata": {},
   "outputs": [
    {
     "name": "stderr",
     "output_type": "stream",
     "text": [
      "/var/folders/b7/64294z_j16d0t1nszkgct6_c0000gn/T/ipykernel_43903/699728972.py:1: RuntimeWarning: invalid value encountered in cast\n",
      "  np.array([np.nan]).astype(int).astype(float)\n"
     ]
    },
    {
     "data": {
      "text/plain": [
       "array([0.])"
      ]
     },
     "execution_count": 140,
     "metadata": {},
     "output_type": "execute_result"
    }
   ],
   "source": [
    "np.array([np.nan]).astype(int).astype(float)"
   ]
  },
  {
   "cell_type": "markdown",
   "metadata": {},
   "source": [
    "#### 29. How to round away from zero a float array ? (★☆☆)"
   ]
  },
  {
   "cell_type": "code",
   "execution_count": 174,
   "metadata": {},
   "outputs": [
    {
     "name": "stdout",
     "output_type": "stream",
     "text": [
      "[[ 3.5462  4.5462  5.5462  6.5462]\n",
      " [ 7.5462  8.5462  9.5462 10.5462]\n",
      " [11.5462 12.5462 13.5462 14.5462]]\n"
     ]
    }
   ],
   "source": [
    "a1 = np.arange(3.5462,14.9864).reshape(3,4)\n",
    "print(a1)"
   ]
  },
  {
   "cell_type": "code",
   "execution_count": 175,
   "metadata": {},
   "outputs": [
    {
     "name": "stdout",
     "output_type": "stream",
     "text": [
      "[[ 3.55  4.55  5.55  6.55]\n",
      " [ 7.55  8.55  9.55 10.55]\n",
      " [11.55 12.55 13.55 14.55]]\n"
     ]
    }
   ],
   "source": [
    "a2 = np.round(a1,2)\n",
    "print(a2)"
   ]
  },
  {
   "cell_type": "code",
   "execution_count": 178,
   "metadata": {},
   "outputs": [
    {
     "name": "stdout",
     "output_type": "stream",
     "text": [
      "[[ 4.  5.  6.  7.]\n",
      " [ 8.  9. 10. 11.]\n",
      " [12. 13. 14. 15.]]\n"
     ]
    }
   ],
   "source": [
    "a3 = np.around(a1)\n",
    "print(a3)"
   ]
  },
  {
   "cell_type": "code",
   "execution_count": 196,
   "metadata": {},
   "outputs": [
    {
     "name": "stdout",
     "output_type": "stream",
     "text": [
      "[[-5.5481 -4.5481 -3.5481]\n",
      " [-2.5481 -1.5481 -0.5481]\n",
      " [ 0.4519  1.4519  2.4519]\n",
      " [ 3.4519  4.4519  5.4519]]\n"
     ]
    }
   ],
   "source": [
    "a4 = np.arange(-5.5481,6.3476).reshape(4,3)\n",
    "print(a4)"
   ]
  },
  {
   "cell_type": "code",
   "execution_count": 199,
   "metadata": {},
   "outputs": [
    {
     "name": "stdout",
     "output_type": "stream",
     "text": [
      "[[5.5481 4.5481 3.5481]\n",
      " [2.5481 1.5481 0.5481]\n",
      " [0.4519 1.4519 2.4519]\n",
      " [3.4519 4.4519 5.4519]]\n"
     ]
    }
   ],
   "source": [
    "#uses absilute to be able to make every object positive and enable round off to the higher next number\n",
    "a5 = abs(a4)\n",
    "print(a5)"
   ]
  },
  {
   "cell_type": "code",
   "execution_count": 201,
   "metadata": {},
   "outputs": [
    {
     "name": "stdout",
     "output_type": "stream",
     "text": [
      "[[6. 5. 4.]\n",
      " [3. 2. 1.]\n",
      " [1. 2. 3.]\n",
      " [4. 5. 6.]]\n"
     ]
    }
   ],
   "source": [
    "#use ceil to round to the next higher float\n",
    "a6 = np.ceil(a5)\n",
    "print(a6)"
   ]
  },
  {
   "cell_type": "code",
   "execution_count": 203,
   "metadata": {},
   "outputs": [
    {
     "name": "stdout",
     "output_type": "stream",
     "text": [
      "[[-6. -5. -4.]\n",
      " [-3. -2. -1.]\n",
      " [ 1.  2.  3.]\n",
      " [ 4.  5.  6.]]\n"
     ]
    }
   ],
   "source": [
    "#use copysign to return the original sign after rounding is done\n",
    "a7 = np.copysign(a6,a4)\n",
    "print(a7)"
   ]
  },
  {
   "cell_type": "code",
   "execution_count": 205,
   "metadata": {},
   "outputs": [
    {
     "name": "stdout",
     "output_type": "stream",
     "text": [
      "[[-6. -5. -4.]\n",
      " [-3. -2. -1.]\n",
      " [ 1.  2.  3.]\n",
      " [ 4.  5.  6.]]\n"
     ]
    }
   ],
   "source": [
    "#one line code to do all the round away from zero\n",
    "a8 = np.copysign(np.ceil(abs(a4)),a4)\n",
    "print(a8)"
   ]
  },
  {
   "cell_type": "markdown",
   "metadata": {},
   "source": [
    "#### 30. How to find common values between two arrays? (★☆☆)"
   ]
  },
  {
   "cell_type": "code",
   "execution_count": 236,
   "metadata": {},
   "outputs": [
    {
     "name": "stdout",
     "output_type": "stream",
     "text": [
      "[[ 3  4  5  6]\n",
      " [ 7  8  9 10]\n",
      " [11 12 13 14]]\n",
      "[[4 5]\n",
      " [6 7]\n",
      " [8 9]]\n"
     ]
    }
   ],
   "source": [
    "b1 = np.arange(3,15).reshape(3,4)\n",
    "b2 = np.arange(4,10).reshape(3,2)\n",
    "print(b1)\n",
    "print(b2)"
   ]
  },
  {
   "cell_type": "code",
   "execution_count": 237,
   "metadata": {},
   "outputs": [
    {
     "name": "stdout",
     "output_type": "stream",
     "text": [
      "[4 5 6 7 8 9]\n"
     ]
    }
   ],
   "source": [
    "b3 = np.intersect1d(b1,b2)\n",
    "print(b3)"
   ]
  }
 ],
 "metadata": {
  "kernelspec": {
   "display_name": "atieno",
   "language": "python",
   "name": "python3"
  },
  "language_info": {
   "codemirror_mode": {
    "name": "ipython",
    "version": 3
   },
   "file_extension": ".py",
   "mimetype": "text/x-python",
   "name": "python",
   "nbconvert_exporter": "python",
   "pygments_lexer": "ipython3",
   "version": "3.12.8"
  }
 },
 "nbformat": 4,
 "nbformat_minor": 4
}
