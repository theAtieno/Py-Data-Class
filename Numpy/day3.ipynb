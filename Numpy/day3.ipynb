{
 "cells": [
  {
   "cell_type": "code",
   "execution_count": 1,
   "id": "542a0cf0",
   "metadata": {},
   "outputs": [],
   "source": [
    "import numpy as np"
   ]
  },
  {
   "cell_type": "code",
   "execution_count": null,
   "id": "5ad1de6e",
   "metadata": {},
   "outputs": [],
   "source": [
    "import shutil\n",
    "import os\n",
    "\n",
    "source = \"/Users/atienojacinta/Downloads/day3.ipynb\"\n",
    "\n",
    "destination_folder = \"/Users/atienojacinta/PYDATA /Numpy\"\n",
    "\n",
    "os.makedirs(destination_folder, exist_ok=True)\n",
    "\n",
    "destination = os.path.join(destination_folder, \"day3.ipynb\")\n",
    "\n",
    "shutil.move(source, destination)\n",
    "\n",
    "print(f\"Moved {source} ➝ {destination}\")"
   ]
  },
  {
   "cell_type": "code",
   "execution_count": 3,
   "id": "df1df389",
   "metadata": {},
   "outputs": [],
   "source": [
    "x = np.array([2,1,4,3,7,6])"
   ]
  },
  {
   "cell_type": "code",
   "execution_count": 4,
   "id": "09df4030",
   "metadata": {},
   "outputs": [
    {
     "data": {
      "text/plain": [
       "array([1, 2, 3, 4, 6, 7])"
      ]
     },
     "execution_count": 4,
     "metadata": {},
     "output_type": "execute_result"
    }
   ],
   "source": [
    "# sorting arrays\n",
    "\n",
    "np.sort(x)"
   ]
  },
  {
   "cell_type": "code",
   "execution_count": 5,
   "id": "ae61928c",
   "metadata": {},
   "outputs": [
    {
     "name": "stdout",
     "output_type": "stream",
     "text": [
      "[[34 12 11]\n",
      " [ 2  9  5]\n",
      " [ 6  3  8]]\n"
     ]
    }
   ],
   "source": [
    "a = np.array([[34,12,11],[2,9,5],[6,3,8]])\n",
    "print(a)"
   ]
  },
  {
   "cell_type": "code",
   "execution_count": null,
   "id": "110b29b9",
   "metadata": {},
   "outputs": [
    {
     "data": {
      "text/plain": [
       "array([[11, 12, 34],\n",
       "       [ 2,  5,  9],\n",
       "       [ 3,  6,  8]])"
      ]
     },
     "execution_count": 22,
     "metadata": {},
     "output_type": "execute_result"
    }
   ],
   "source": [
    "# axis =1\n",
    "# last axis = -1\n",
    "# Multidimensional array (3d what's the last axis, how does this differ from 1)\n",
    "\n",
    "np.sort(a,axis=-1)"
   ]
  },
  {
   "cell_type": "code",
   "execution_count": 23,
   "id": "4fd26aec",
   "metadata": {},
   "outputs": [
    {
     "data": {
      "text/plain": [
       "array([34, 12, 11,  9,  8,  6,  5,  3,  2])"
      ]
     },
     "execution_count": 23,
     "metadata": {},
     "output_type": "execute_result"
    }
   ],
   "source": [
    "np.sort(a,axis=None)[::-1]"
   ]
  },
  {
   "cell_type": "code",
   "execution_count": 26,
   "id": "4e6127c1",
   "metadata": {},
   "outputs": [
    {
     "data": {
      "text/plain": [
       "array([[11, 12, 34],\n",
       "       [ 2,  5,  9],\n",
       "       [ 3,  6,  8]])"
      ]
     },
     "execution_count": 26,
     "metadata": {},
     "output_type": "execute_result"
    }
   ],
   "source": [
    "np.sort(a,axis=1)"
   ]
  },
  {
   "cell_type": "markdown",
   "id": "379b9967",
   "metadata": {},
   "source": [
    "Argsort"
   ]
  },
  {
   "cell_type": "code",
   "execution_count": 27,
   "id": "e840b6c8",
   "metadata": {},
   "outputs": [],
   "source": [
    "x =  np.array([4,1,6,3,7])"
   ]
  },
  {
   "cell_type": "markdown",
   "id": "4826223b",
   "metadata": {},
   "source": [
    "4 ; 0\n",
    "1; 1\n",
    "6 ; 2\n",
    "3 : 3\n",
    "7 : 4"
   ]
  },
  {
   "cell_type": "code",
   "execution_count": 28,
   "id": "8ff82421",
   "metadata": {},
   "outputs": [
    {
     "data": {
      "text/plain": [
       "array([1, 3, 4, 6, 7])"
      ]
     },
     "execution_count": 28,
     "metadata": {},
     "output_type": "execute_result"
    }
   ],
   "source": [
    "np.sort(x)"
   ]
  },
  {
   "cell_type": "code",
   "execution_count": 29,
   "id": "36d34606",
   "metadata": {},
   "outputs": [
    {
     "data": {
      "text/plain": [
       "array([1, 3, 0, 2, 4])"
      ]
     },
     "execution_count": 29,
     "metadata": {},
     "output_type": "execute_result"
    }
   ],
   "source": [
    "np.argsort(x)"
   ]
  },
  {
   "cell_type": "markdown",
   "id": "f8d709f7",
   "metadata": {},
   "source": [
    "Partition"
   ]
  },
  {
   "cell_type": "code",
   "execution_count": null,
   "id": "c8431e67",
   "metadata": {},
   "outputs": [],
   "source": [
    "# the k smallest value in an array"
   ]
  },
  {
   "cell_type": "code",
   "execution_count": 58,
   "id": "1f3e961e",
   "metadata": {},
   "outputs": [],
   "source": [
    "arr = np.array([3,7,9,1,9,8])\n"
   ]
  },
  {
   "cell_type": "code",
   "execution_count": 63,
   "id": "d6eaa142",
   "metadata": {},
   "outputs": [
    {
     "data": {
      "text/plain": [
       "array([1, 3, 7, 8, 9, 9])"
      ]
     },
     "execution_count": 63,
     "metadata": {},
     "output_type": "execute_result"
    }
   ],
   "source": [
    "# 3 smallest elements in an array\n",
    "\n",
    "np.partition(arr,2)"
   ]
  },
  {
   "cell_type": "code",
   "execution_count": 74,
   "id": "7d4a1b3e",
   "metadata": {},
   "outputs": [],
   "source": [
    "arr2 = np.array([72,54,33,89,56,80])"
   ]
  },
  {
   "cell_type": "code",
   "execution_count": 75,
   "id": "77536d8f",
   "metadata": {},
   "outputs": [
    {
     "data": {
      "text/plain": [
       "array([33, 54, 56, 72, 80, 89])"
      ]
     },
     "execution_count": 75,
     "metadata": {},
     "output_type": "execute_result"
    }
   ],
   "source": [
    "np.sort(arr2)"
   ]
  },
  {
   "cell_type": "code",
   "execution_count": null,
   "id": "0f0ef0bd",
   "metadata": {},
   "outputs": [],
   "source": [
    "index 2 ; 56\n",
    "index 4 ; 80"
   ]
  },
  {
   "cell_type": "code",
   "execution_count": 76,
   "id": "9178da6a",
   "metadata": {},
   "outputs": [
    {
     "data": {
      "text/plain": [
       "array([33, 54, 56, 72, 80, 89])"
      ]
     },
     "execution_count": 76,
     "metadata": {},
     "output_type": "execute_result"
    }
   ],
   "source": [
    "np.partition(arr2,(2,4))"
   ]
  },
  {
   "cell_type": "markdown",
   "id": "3f6ff4e5",
   "metadata": {},
   "source": [
    "Along a specific axis"
   ]
  },
  {
   "cell_type": "code",
   "execution_count": 132,
   "id": "d3951fb3",
   "metadata": {},
   "outputs": [
    {
     "data": {
      "text/plain": [
       "array([[6, 3, 7, 4, 6, 9],\n",
       "       [2, 6, 7, 4, 3, 7],\n",
       "       [7, 2, 5, 4, 1, 7],\n",
       "       [5, 1, 4, 0, 9, 5]], dtype=int32)"
      ]
     },
     "execution_count": 132,
     "metadata": {},
     "output_type": "execute_result"
    }
   ],
   "source": [
    "# random state ; (42)\n",
    "\n",
    "rand = np.random.RandomState(42)\n",
    "\n",
    "x = rand.randint(0,10, (4,6))\n",
    "x"
   ]
  },
  {
   "cell_type": "code",
   "execution_count": 97,
   "id": "2892566f",
   "metadata": {},
   "outputs": [
    {
     "data": {
      "text/plain": [
       "array([[3, 4, 6, 6, 7, 9],\n",
       "       [2, 3, 4, 6, 7, 7],\n",
       "       [1, 2, 4, 5, 7, 7],\n",
       "       [0, 1, 4, 5, 5, 9]], dtype=int32)"
      ]
     },
     "execution_count": 97,
     "metadata": {},
     "output_type": "execute_result"
    }
   ],
   "source": [
    "np.partition(x,3,axis=1)"
   ]
  },
  {
   "cell_type": "code",
   "execution_count": 103,
   "id": "830e12d4",
   "metadata": {},
   "outputs": [
    {
     "data": {
      "text/plain": [
       "array([[2, 1, 4, 0, 1, 5],\n",
       "       [5, 2, 5, 4, 3, 7],\n",
       "       [6, 3, 7, 4, 6, 7],\n",
       "       [7, 6, 7, 4, 9, 9]], dtype=int32)"
      ]
     },
     "execution_count": 103,
     "metadata": {},
     "output_type": "execute_result"
    }
   ],
   "source": [
    "np.partition(x,1,axis=0)"
   ]
  },
  {
   "cell_type": "markdown",
   "id": "0620527c",
   "metadata": {},
   "source": [
    "Basic Math Operations"
   ]
  },
  {
   "cell_type": "code",
   "execution_count": 110,
   "id": "eda77644",
   "metadata": {},
   "outputs": [],
   "source": [
    "arr1 = np.random.rand(10)\n",
    "arr2 = np.random.rand(10)"
   ]
  },
  {
   "cell_type": "code",
   "execution_count": 111,
   "id": "3e606364",
   "metadata": {},
   "outputs": [
    {
     "data": {
      "text/plain": [
       "array([0.98466638, 0.22413737, 0.39574481, 0.60970417, 0.18599604,\n",
       "       0.9510972 , 0.56743324, 0.33385245, 0.71052076, 0.77775922])"
      ]
     },
     "execution_count": 111,
     "metadata": {},
     "output_type": "execute_result"
    }
   ],
   "source": [
    "arr1"
   ]
  },
  {
   "cell_type": "code",
   "execution_count": 112,
   "id": "c4e6d12f",
   "metadata": {},
   "outputs": [
    {
     "data": {
      "text/plain": [
       "array([0.3592932 , 0.8631237 , 0.4076891 , 0.092373  , 0.18259903,\n",
       "       0.32885506, 0.24771166, 0.07308964, 0.98495903, 0.41909911])"
      ]
     },
     "execution_count": 112,
     "metadata": {},
     "output_type": "execute_result"
    }
   ],
   "source": [
    "arr2"
   ]
  },
  {
   "cell_type": "code",
   "execution_count": 113,
   "id": "731b0a85",
   "metadata": {},
   "outputs": [
    {
     "data": {
      "text/plain": [
       "array([1.34395958, 1.08726107, 0.80343391, 0.70207717, 0.36859507,\n",
       "       1.27995227, 0.81514491, 0.40694209, 1.69547979, 1.19685833])"
      ]
     },
     "execution_count": 113,
     "metadata": {},
     "output_type": "execute_result"
    }
   ],
   "source": [
    "np.add(arr1,arr2)"
   ]
  },
  {
   "cell_type": "code",
   "execution_count": 115,
   "id": "b5d2ebec",
   "metadata": {},
   "outputs": [
    {
     "data": {
      "text/plain": [
       "array([0.36488825, 3.85086921, 1.03018178, 0.15150463, 0.98173607,\n",
       "       0.34576389, 0.43654768, 0.21892798, 1.38624947, 0.53885457])"
      ]
     },
     "execution_count": 115,
     "metadata": {},
     "output_type": "execute_result"
    }
   ],
   "source": [
    "np.divide(arr2,arr1)"
   ]
  },
  {
   "cell_type": "code",
   "execution_count": 118,
   "id": "80aff903",
   "metadata": {},
   "outputs": [
    {
     "data": {
      "text/plain": [
       "array([ 0.62537319, -0.63898633, -0.01194428,  0.51733116,  0.00339702,\n",
       "        0.62224214,  0.31972158,  0.26076281, -0.27443826,  0.35866011])"
      ]
     },
     "execution_count": 118,
     "metadata": {},
     "output_type": "execute_result"
    }
   ],
   "source": [
    "np.subtract(arr1,arr2)"
   ]
  },
  {
   "cell_type": "code",
   "execution_count": 121,
   "id": "0fcd2319",
   "metadata": {},
   "outputs": [
    {
     "data": {
      "text/plain": [
       "array([0.35378393, 0.19345828, 0.16134084, 0.0563202 , 0.0339627 ,\n",
       "       0.31277313, 0.14055983, 0.02440116, 0.69983384, 0.3259582 ])"
      ]
     },
     "execution_count": 121,
     "metadata": {},
     "output_type": "execute_result"
    }
   ],
   "source": [
    "np.multiply(arr1,arr2)"
   ]
  },
  {
   "cell_type": "code",
   "execution_count": 122,
   "id": "6e6151dd",
   "metadata": {},
   "outputs": [
    {
     "data": {
      "text/plain": [
       "np.float64(5.0)"
      ]
     },
     "execution_count": 122,
     "metadata": {},
     "output_type": "execute_result"
    }
   ],
   "source": [
    "np.sqrt(25)"
   ]
  },
  {
   "cell_type": "code",
   "execution_count": 123,
   "id": "a29e9496",
   "metadata": {},
   "outputs": [
    {
     "data": {
      "text/plain": [
       "np.int64(2)"
      ]
     },
     "execution_count": 123,
     "metadata": {},
     "output_type": "execute_result"
    }
   ],
   "source": [
    "np.abs(-2)"
   ]
  },
  {
   "cell_type": "code",
   "execution_count": 124,
   "id": "6f5eb28b",
   "metadata": {},
   "outputs": [
    {
     "data": {
      "text/plain": [
       "np.int64(9)"
      ]
     },
     "execution_count": 124,
     "metadata": {},
     "output_type": "execute_result"
    }
   ],
   "source": [
    "np.power(3,2)"
   ]
  },
  {
   "cell_type": "code",
   "execution_count": 125,
   "id": "ab912d99",
   "metadata": {},
   "outputs": [
    {
     "data": {
      "text/plain": [
       "np.float64(4.605170185988092)"
      ]
     },
     "execution_count": 125,
     "metadata": {},
     "output_type": "execute_result"
    }
   ],
   "source": [
    "np.log(100)"
   ]
  },
  {
   "cell_type": "code",
   "execution_count": 126,
   "id": "1b875708",
   "metadata": {},
   "outputs": [
    {
     "data": {
      "text/plain": [
       "np.float64(2.0)"
      ]
     },
     "execution_count": 126,
     "metadata": {},
     "output_type": "execute_result"
    }
   ],
   "source": [
    "np.log10(100)"
   ]
  },
  {
   "cell_type": "code",
   "execution_count": 129,
   "id": "0362daed",
   "metadata": {},
   "outputs": [],
   "source": [
    "a = np.array([-1.7,-1.5,0.2,2.4,2.6])"
   ]
  },
  {
   "cell_type": "code",
   "execution_count": 130,
   "id": "e87c4ca3",
   "metadata": {},
   "outputs": [
    {
     "data": {
      "text/plain": [
       "array([-2., -2.,  0.,  2.,  2.])"
      ]
     },
     "execution_count": 130,
     "metadata": {},
     "output_type": "execute_result"
    }
   ],
   "source": [
    "np.floor(a)"
   ]
  },
  {
   "cell_type": "code",
   "execution_count": 131,
   "id": "37ed81b9",
   "metadata": {},
   "outputs": [
    {
     "data": {
      "text/plain": [
       "array([-1., -1.,  1.,  3.,  3.])"
      ]
     },
     "execution_count": 131,
     "metadata": {},
     "output_type": "execute_result"
    }
   ],
   "source": [
    "np.ceil(a)"
   ]
  },
  {
   "cell_type": "markdown",
   "id": "a0ec9b7b",
   "metadata": {},
   "source": [
    "Accessing elements within an array"
   ]
  },
  {
   "cell_type": "code",
   "execution_count": null,
   "id": "de6ef3aa",
   "metadata": {},
   "outputs": [],
   "source": [
    "a[r,c]"
   ]
  },
  {
   "cell_type": "code",
   "execution_count": 135,
   "id": "ccc7e351",
   "metadata": {},
   "outputs": [],
   "source": [
    "a = np.array([[1,2,3,4,5,6,7],[8,9,10,11,12,13,14],[15,16,17,18,19,20,21]])"
   ]
  },
  {
   "cell_type": "code",
   "execution_count": 136,
   "id": "79464f72",
   "metadata": {},
   "outputs": [
    {
     "data": {
      "text/plain": [
       "array([[ 1,  2,  3,  4,  5,  6,  7],\n",
       "       [ 8,  9, 10, 11, 12, 13, 14],\n",
       "       [15, 16, 17, 18, 19, 20, 21]])"
      ]
     },
     "execution_count": 136,
     "metadata": {},
     "output_type": "execute_result"
    }
   ],
   "source": [
    "a"
   ]
  },
  {
   "cell_type": "code",
   "execution_count": 140,
   "id": "c43d396a",
   "metadata": {},
   "outputs": [
    {
     "data": {
      "text/plain": [
       "np.int64(2)"
      ]
     },
     "execution_count": 140,
     "metadata": {},
     "output_type": "execute_result"
    }
   ],
   "source": [
    "a[0,1]"
   ]
  },
  {
   "cell_type": "code",
   "execution_count": 145,
   "id": "ea12badc",
   "metadata": {},
   "outputs": [
    {
     "data": {
      "text/plain": [
       "array([ 3, 10, 17])"
      ]
     },
     "execution_count": 145,
     "metadata": {},
     "output_type": "execute_result"
    }
   ],
   "source": [
    "a[:,2]"
   ]
  },
  {
   "cell_type": "code",
   "execution_count": 146,
   "id": "7acab653",
   "metadata": {},
   "outputs": [
    {
     "data": {
      "text/plain": [
       "array([15, 16, 17, 18, 19, 20, 21])"
      ]
     },
     "execution_count": 146,
     "metadata": {},
     "output_type": "execute_result"
    }
   ],
   "source": [
    "a[2,:]"
   ]
  },
  {
   "cell_type": "code",
   "execution_count": 148,
   "id": "848f1c08",
   "metadata": {},
   "outputs": [
    {
     "data": {
      "text/plain": [
       "array([[ 1,  2,  3,  4,  5,  6,  7],\n",
       "       [ 8,  9, 10, 11, 12, 13, 14],\n",
       "       [15, 16, 17, 18, 19, 20, 21]])"
      ]
     },
     "execution_count": 148,
     "metadata": {},
     "output_type": "execute_result"
    }
   ],
   "source": [
    "a"
   ]
  },
  {
   "cell_type": "code",
   "execution_count": 147,
   "id": "dafb0356",
   "metadata": {},
   "outputs": [
    {
     "data": {
      "text/plain": [
       "array([[ 1,  2,  3,  4],\n",
       "       [ 8,  9, 10, 11],\n",
       "       [15, 16, 17, 18]])"
      ]
     },
     "execution_count": 147,
     "metadata": {},
     "output_type": "execute_result"
    }
   ],
   "source": [
    "a[:,:4]"
   ]
  },
  {
   "cell_type": "code",
   "execution_count": 149,
   "id": "25ea62ed",
   "metadata": {},
   "outputs": [
    {
     "data": {
      "text/plain": [
       "array([[ 2,  3,  4],\n",
       "       [ 9, 10, 11],\n",
       "       [16, 17, 18]])"
      ]
     },
     "execution_count": 149,
     "metadata": {},
     "output_type": "execute_result"
    }
   ],
   "source": [
    "a[:,1:4]"
   ]
  },
  {
   "cell_type": "code",
   "execution_count": 150,
   "id": "ba953ce3",
   "metadata": {},
   "outputs": [
    {
     "data": {
      "text/plain": [
       "array([[ 1,  2,  3,  4,  5,  6,  7],\n",
       "       [ 8,  9, 10, 11, 12, 13, 14]])"
      ]
     },
     "execution_count": 150,
     "metadata": {},
     "output_type": "execute_result"
    }
   ],
   "source": [
    "a[:2,:]"
   ]
  },
  {
   "cell_type": "code",
   "execution_count": 152,
   "id": "cc60ee9e",
   "metadata": {},
   "outputs": [
    {
     "data": {
      "text/plain": [
       "array([[ 1,  2,  3,  4,  5,  6,  7],\n",
       "       [ 8,  9, 10, 11, 12, 13, 14],\n",
       "       [15, 16, 17, 18, 19, 20, 21]])"
      ]
     },
     "execution_count": 152,
     "metadata": {},
     "output_type": "execute_result"
    }
   ],
   "source": [
    "a"
   ]
  },
  {
   "cell_type": "code",
   "execution_count": 151,
   "id": "38e44fc9",
   "metadata": {},
   "outputs": [
    {
     "data": {
      "text/plain": [
       "array([[10, 11, 12]])"
      ]
     },
     "execution_count": 151,
     "metadata": {},
     "output_type": "execute_result"
    }
   ],
   "source": [
    "a[1:2,2:5]"
   ]
  },
  {
   "cell_type": "code",
   "execution_count": null,
   "id": "a6707c8d",
   "metadata": {},
   "outputs": [
    {
     "data": {
      "text/plain": [
       "array([ 8, 10])"
      ]
     },
     "execution_count": 155,
     "metadata": {},
     "output_type": "execute_result"
    },
    {
     "ename": "",
     "evalue": "",
     "output_type": "error",
     "traceback": [
      "\u001b[1;31mThe Kernel crashed while executing code in the current cell or a previous cell. \n",
      "\u001b[1;31mPlease review the code in the cell(s) to identify a possible cause of the failure. \n",
      "\u001b[1;31mClick <a href='https://aka.ms/vscodeJupyterKernelCrash'>here</a> for more info. \n",
      "\u001b[1;31mView Jupyter <a href='command:jupyter.viewOutput'>log</a> for further details."
     ]
    }
   ],
   "source": [
    "# start index, end index , step size\n",
    "\n",
    "a[1,0:-3:2]"
   ]
  },
  {
   "cell_type": "code",
   "execution_count": null,
   "id": "183541ad",
   "metadata": {},
   "outputs": [],
   "source": []
  }
 ],
 "metadata": {
  "kernelspec": {
   "display_name": "atieno",
   "language": "python",
   "name": "python3"
  },
  "language_info": {
   "codemirror_mode": {
    "name": "ipython",
    "version": 3
   },
   "file_extension": ".py",
   "mimetype": "text/x-python",
   "name": "python",
   "nbconvert_exporter": "python",
   "pygments_lexer": "ipython3",
   "version": "3.12.8"
  }
 },
 "nbformat": 4,
 "nbformat_minor": 5
}
